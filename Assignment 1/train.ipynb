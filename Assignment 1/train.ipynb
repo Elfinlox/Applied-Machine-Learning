{
 "cells": [
  {
   "cell_type": "markdown",
   "id": "5bc57c32",
   "metadata": {},
   "source": [
    "# Assignment 1 - Applied Machine Learning\n",
    "---\n",
    "## Arghadeep Ghosh\n",
    "\n",
    "This notebook 'train.csv' contains the code for loading the Training, Validation and Test datasets, fitting Naive-Bayes, Logistic Regression and Random Forest models on the training data and evaluating the model on the Validation and Test datasets."
   ]
  },
  {
   "cell_type": "code",
   "execution_count": 153,
   "id": "a5953b9b",
   "metadata": {},
   "outputs": [],
   "source": [
    "import pandas as pd\n",
    "import csv\n",
    "\n",
    "from textblob import TextBlob\n",
    "from sklearn.feature_extraction.text import CountVectorizer, TfidfTransformer\n",
    "\n",
    "from sklearn.naive_bayes import MultinomialNB\n",
    "from sklearn.linear_model import LogisticRegression\n",
    "from sklearn.ensemble import RandomForestClassifier\n",
    "\n",
    "from sklearn.model_selection import train_test_split\n",
    "from sklearn.metrics import precision_score, recall_score, f1_score, accuracy_score, confusion_matrix\n",
    "from sklearn.pipeline import Pipeline\n",
    "\n",
    "import seaborn as sns\n",
    "import matplotlib.pyplot as plt"
   ]
  },
  {
   "cell_type": "code",
   "execution_count": 154,
   "id": "acd3e540",
   "metadata": {},
   "outputs": [
    {
     "data": {
      "text/plain": [
       "(3344, 1115, 1115)"
      ]
     },
     "execution_count": 154,
     "metadata": {},
     "output_type": "execute_result"
    }
   ],
   "source": [
    "train = pd.read_csv('train.csv')\n",
    "valid = pd.read_csv('validation.csv')\n",
    "test = pd.read_csv('test.csv')\n",
    "\n",
    "len(train), len(valid), len(test)"
   ]
  },
  {
   "cell_type": "markdown",
   "id": "287dd9be",
   "metadata": {},
   "source": [
    "## Preprocessing Functions\n",
    "---\n",
    "The data is converted from a sentence model to a Bag of words format with each word asigned a tf-idf weighting"
   ]
  },
  {
   "cell_type": "code",
   "execution_count": 172,
   "id": "a3eefbac",
   "metadata": {},
   "outputs": [
    {
     "data": {
      "text/plain": [
       "0                   [i, will, cal, you, sir, in, meeting]\n",
       "1       [u, meet, other, fren, dun, wan, meet, me, ah,...\n",
       "2       [im, sorry, bout, last, nite, it, wasnt, ur, ...\n",
       "3       [raji, pls, do, me, a, favour, pls, convey, my...\n",
       "4       [great, new, offer, double, min, double, txt, ...\n",
       "                              ...                        \n",
       "3339                      [ok, lor, msg, me, b4, u, call]\n",
       "3340    [aiyah, then, i, wait, lor, then, u, entertain...\n",
       "3341     [after, the, drug, she, will, be, able, to, eat]\n",
       "3342    [so, what, did, the, bank, say, about, the, mo...\n",
       "3343    [your, right, i, 'll, make, the, appointment, ...\n",
       "Name: message, Length: 3344, dtype: object"
      ]
     },
     "execution_count": 172,
     "metadata": {},
     "output_type": "execute_result"
    }
   ],
   "source": [
    "def split_into_lemmas(message):\n",
    "    message = message.lower()  # convert bytes into proper unicode\n",
    "    words = TextBlob(message).words\n",
    "    return [word.lemma for word in words]\n",
    "\n",
    "train.message.apply(split_into_lemmas)"
   ]
  },
  {
   "cell_type": "code",
   "execution_count": 173,
   "id": "037b9a0a",
   "metadata": {},
   "outputs": [
    {
     "name": "stdout",
     "output_type": "stream",
     "text": [
      "driving\n"
     ]
    }
   ],
   "source": [
    "bow_transformer = CountVectorizer(analyzer=split_into_lemmas).fit(train['message'])\n",
    "train_bow = bow_transformer.transform(train['message'])\n",
    "valid_bow = bow_transformer.transform(valid['message'])\n",
    "test_bow = bow_transformer.transform(test['message'])\n",
    "\n",
    "bow = bow_transformer.transform([train['message'][5]])\n",
    "\n",
    "print(bow_transformer.get_feature_names_out()[2096])"
   ]
  },
  {
   "cell_type": "code",
   "execution_count": 174,
   "id": "4f37aa83",
   "metadata": {},
   "outputs": [
    {
     "name": "stdout",
     "output_type": "stream",
     "text": [
      "  (0, 6414)\t0.32807176620602907\n",
      "  (0, 6387)\t0.30340698131071364\n",
      "  (0, 5849)\t0.36684459578897255\n",
      "  (0, 5659)\t0.1236342045305498\n",
      "  (0, 5375)\t0.2680253744717302\n",
      "  (0, 4101)\t0.15119661542774893\n",
      "  (0, 3600)\t0.1878282092201405\n",
      "  (0, 3593)\t0.38539890859146597\n",
      "  (0, 3084)\t0.13441149703102495\n",
      "  (0, 2976)\t0.26463415172777016\n",
      "  (0, 2749)\t0.18844245422671782\n",
      "  (0, 2724)\t0.22470860210309862\n",
      "  (0, 1347)\t0.38539890859146597\n",
      "  (0, 834)\t0.2220550723776349\n"
     ]
    }
   ],
   "source": [
    "tfidf_transformer = TfidfTransformer().fit(train_bow)\n",
    "train_tfidf = tfidf_transformer.transform(train_bow)\n",
    "valid_tfidf = tfidf_transformer.transform(valid_bow)\n",
    "test_tfidf = tfidf_transformer.transform(test_bow)\n",
    "\n",
    "\n",
    "tfidf = tfidf_transformer.transform(bow)\n",
    "print(tfidf)"
   ]
  },
  {
   "cell_type": "code",
   "execution_count": 158,
   "id": "23fd331e",
   "metadata": {},
   "outputs": [],
   "source": [
    "def evaluate_model(model, X, Y):\n",
    "    Y_pred = model.predict(X)\n",
    "\n",
    "    print('Accuracy:', accuracy_score(Y, Y_pred)*100, '%')\n",
    "    print('Precision:', precision_score(Y, Y_pred, pos_label = 'spam')*100, '%')\n",
    "    print('Recall:', recall_score(Y, Y_pred, pos_label = 'spam')*100, '%')\n",
    "    print('F1 Score:', f1_score(Y, Y_pred, pos_label = 'spam')*100, '%')\n",
    "\n",
    "    cm = confusion_matrix(Y, Y_pred)\n",
    "    ax= plt.subplot()\n",
    "    sns.heatmap(cm, annot=True, fmt='g', ax=ax);  #annot=True to annotate cells, ftm='g' to disable scientific notation\n",
    "\n",
    "    # labels, title and ticks\n",
    "    ax.set_xlabel('Predicted labels');ax.set_ylabel('True labels'); \n",
    "    ax.set_title('Confusion Matrix'); \n",
    "    ax.xaxis.set_ticklabels(['Not Spam', 'Spam']); ax.yaxis.set_ticklabels(['Not Spam', 'Spam']);"
   ]
  },
  {
   "cell_type": "markdown",
   "id": "5d859286",
   "metadata": {},
   "source": [
    "## Naive-Bayes Model\n",
    "---\n",
    "We train a Multinomial Naive-Bayes model on the training data and evaluate it on the validation and testing data. We've obtained the Accuracy, precision, recall, F1 score and the confusion matrix in each case."
   ]
  },
  {
   "cell_type": "code",
   "execution_count": 159,
   "id": "2b899e3a",
   "metadata": {},
   "outputs": [
    {
     "name": "stdout",
     "output_type": "stream",
     "text": [
      "CPU times: total: 0 ns\n",
      "Wall time: 7.98 ms\n"
     ]
    }
   ],
   "source": [
    "%time spam_detectorNB = MultinomialNB().fit(train_tfidf, train['label'])"
   ]
  },
  {
   "cell_type": "markdown",
   "id": "36e0ef63",
   "metadata": {},
   "source": [
    "### Training Data"
   ]
  },
  {
   "cell_type": "code",
   "execution_count": 160,
   "id": "0060a715",
   "metadata": {},
   "outputs": [
    {
     "name": "stdout",
     "output_type": "stream",
     "text": [
      "Accuracy: 96.32177033492823 %\n",
      "Precision: 100.0 %\n",
      "Recall: 72.23476297968398 %\n",
      "F1 Score: 83.87942332896462 %\n"
     ]
    },
    {
     "data": {
      "image/png": "[encoded data removed]",
      "text/plain": [
       "<Figure size 432x288 with 2 Axes>"
      ]
     },
     "metadata": {
      "needs_background": "light"
     },
     "output_type": "display_data"
    }
   ],
   "source": [
    "evaluate_model(spam_detectorNB, train_tfidf, train['label'])"
   ]
  },
  {
   "cell_type": "markdown",
   "id": "52d5fad5",
   "metadata": {},
   "source": [
    "### Validation Data"
   ]
  },
  {
   "cell_type": "code",
   "execution_count": 161,
   "id": "798059f8",
   "metadata": {},
   "outputs": [
    {
     "name": "stdout",
     "output_type": "stream",
     "text": [
      "Accuracy: 94.43946188340807 %\n",
      "Precision: 100.0 %\n",
      "Recall: 58.108108108108105 %\n",
      "F1 Score: 73.5042735042735 %\n"
     ]
    },
    {
     "data": {
      "image/png": "[encoded data removed]",
      "text/plain": [
       "<Figure size 432x288 with 2 Axes>"
      ]
     },
     "metadata": {
      "needs_background": "light"
     },
     "output_type": "display_data"
    }
   ],
   "source": [
    "evaluate_model(spam_detectorNB, valid_tfidf, valid['label'])"
   ]
  },
  {
   "cell_type": "markdown",
   "id": "69d1673d",
   "metadata": {},
   "source": [
    "### Test Data"
   ]
  },
  {
   "cell_type": "code",
   "execution_count": 162,
   "id": "37759a4d",
   "metadata": {},
   "outputs": [
    {
     "name": "stdout",
     "output_type": "stream",
     "text": [
      "Accuracy: 94.97757847533632 %\n",
      "Precision: 100.0 %\n",
      "Recall: 64.1025641025641 %\n",
      "F1 Score: 78.12500000000001 %\n"
     ]
    },
    {
     "data": {
      "image/png": "[encoded data removed]",
      "text/plain": [
       "<Figure size 432x288 with 2 Axes>"
      ]
     },
     "metadata": {
      "needs_background": "light"
     },
     "output_type": "display_data"
    }
   ],
   "source": [
    "evaluate_model(spam_detectorNB, test_tfidf, test['label'])"
   ]
  },
  {
   "cell_type": "markdown",
   "id": "7ddc8e85",
   "metadata": {},
   "source": [
    "## Logistic Regression Model\n",
    "---\n",
    "We train a Logistic Regression model on the training data and evaluate it on the validation and testing data. We've obtained the Accuracy, precision, recall, F1 score and the confusion matrix in each case."
   ]
  },
  {
   "cell_type": "code",
   "execution_count": 163,
   "id": "6e4700c7",
   "metadata": {},
   "outputs": [
    {
     "name": "stdout",
     "output_type": "stream",
     "text": [
      "CPU times: total: 46.9 ms\n",
      "Wall time: 43.9 ms\n"
     ]
    }
   ],
   "source": [
    "%time spam_detectorLR = LogisticRegression().fit(train_tfidf, train['label'])"
   ]
  },
  {
   "cell_type": "markdown",
   "id": "777a432e",
   "metadata": {},
   "source": [
    "### Training Data"
   ]
  },
  {
   "cell_type": "code",
   "execution_count": 164,
   "id": "6aa3f164",
   "metadata": {},
   "outputs": [
    {
     "name": "stdout",
     "output_type": "stream",
     "text": [
      "Accuracy: 97.2188995215311 %\n",
      "Precision: 99.7159090909091 %\n",
      "Recall: 79.23250564334086 %\n",
      "F1 Score: 88.30188679245283 %\n"
     ]
    },
    {
     "data": {
      "image/png": "[encoded data removed]",
      "text/plain": [
       "<Figure size 432x288 with 2 Axes>"
      ]
     },
     "metadata": {
      "needs_background": "light"
     },
     "output_type": "display_data"
    }
   ],
   "source": [
    "evaluate_model(spam_detectorLR, train_tfidf, train['label'])"
   ]
  },
  {
   "cell_type": "markdown",
   "id": "125a66fb",
   "metadata": {},
   "source": [
    "### Validation Data"
   ]
  },
  {
   "cell_type": "code",
   "execution_count": 165,
   "id": "a0d239a8",
   "metadata": {},
   "outputs": [
    {
     "name": "stdout",
     "output_type": "stream",
     "text": [
      "Accuracy: 97.04035874439462 %\n",
      "Precision: 100.0 %\n",
      "Recall: 77.7027027027027 %\n",
      "F1 Score: 87.45247148288972 %\n"
     ]
    },
    {
     "data": {
      "image/png": "[encoded data removed]",
      "text/plain": [
       "<Figure size 432x288 with 2 Axes>"
      ]
     },
     "metadata": {
      "needs_background": "light"
     },
     "output_type": "display_data"
    }
   ],
   "source": [
    "evaluate_model(spam_detectorLR, valid_tfidf, valid['label'])"
   ]
  },
  {
   "cell_type": "markdown",
   "id": "806a4fa7",
   "metadata": {},
   "source": [
    "### Test Data"
   ]
  },
  {
   "cell_type": "code",
   "execution_count": 166,
   "id": "b0bc35f4",
   "metadata": {},
   "outputs": [
    {
     "name": "stdout",
     "output_type": "stream",
     "text": [
      "Accuracy: 97.21973094170404 %\n",
      "Precision: 100.0 %\n",
      "Recall: 80.12820512820514 %\n",
      "F1 Score: 88.96797153024912 %\n"
     ]
    },
    {
     "data": {
      "image/png": "[encoded data removed]",
      "text/plain": [
       "<Figure size 432x288 with 2 Axes>"
      ]
     },
     "metadata": {
      "needs_background": "light"
     },
     "output_type": "display_data"
    }
   ],
   "source": [
    "evaluate_model(spam_detectorLR, test_tfidf, test['label'])"
   ]
  },
  {
   "cell_type": "markdown",
   "id": "b84f863c",
   "metadata": {},
   "source": [
    "## Random Forest Classifier\n",
    "---\n",
    "We train a Random Forest Classifier model on the training data and evaluate it on the validation and testing data. We've obtained the Accuracy, precision, recall, F1 score and the confusion matrix in each case."
   ]
  },
  {
   "cell_type": "code",
   "execution_count": 167,
   "id": "82f62ad0",
   "metadata": {},
   "outputs": [
    {
     "name": "stdout",
     "output_type": "stream",
     "text": [
      "CPU times: total: 500 ms\n",
      "Wall time: 500 ms\n"
     ]
    }
   ],
   "source": [
    "%time spam_detectorRF = RandomForestClassifier().fit(train_tfidf, train['label'])"
   ]
  },
  {
   "cell_type": "markdown",
   "id": "33c5a626",
   "metadata": {},
   "source": [
    "### Training Data"
   ]
  },
  {
   "cell_type": "code",
   "execution_count": 168,
   "id": "1c67c2bf",
   "metadata": {},
   "outputs": [
    {
     "name": "stdout",
     "output_type": "stream",
     "text": [
      "Accuracy: 100.0 %\n",
      "Precision: 100.0 %\n",
      "Recall: 100.0 %\n",
      "F1 Score: 100.0 %\n"
     ]
    },
    {
     "data": {
      "image/png": "[encoded data removed]",
      "text/plain": [
       "<Figure size 432x288 with 2 Axes>"
      ]
     },
     "metadata": {
      "needs_background": "light"
     },
     "output_type": "display_data"
    }
   ],
   "source": [
    "evaluate_model(spam_detectorRF, train_tfidf, train['label'])"
   ]
  },
  {
   "cell_type": "markdown",
   "id": "81f1bbc1",
   "metadata": {},
   "source": [
    "### Validation Data"
   ]
  },
  {
   "cell_type": "code",
   "execution_count": 169,
   "id": "7cf79d4b",
   "metadata": {},
   "outputs": [
    {
     "name": "stdout",
     "output_type": "stream",
     "text": [
      "Accuracy: 97.48878923766816 %\n",
      "Precision: 100.0 %\n",
      "Recall: 81.08108108108108 %\n",
      "F1 Score: 89.55223880597015 %\n"
     ]
    },
    {
     "data": {
      "image/png": "[encoded data removed]",
      "text/plain": [
       "<Figure size 432x288 with 2 Axes>"
      ]
     },
     "metadata": {
      "needs_background": "light"
     },
     "output_type": "display_data"
    }
   ],
   "source": [
    "evaluate_model(spam_detectorRF, valid_tfidf, valid['label'])"
   ]
  },
  {
   "cell_type": "markdown",
   "id": "012ea7e3",
   "metadata": {},
   "source": [
    "### Test Data"
   ]
  },
  {
   "cell_type": "code",
   "execution_count": 170,
   "id": "d429e570",
   "metadata": {},
   "outputs": [
    {
     "name": "stdout",
     "output_type": "stream",
     "text": [
      "Accuracy: 97.48878923766816 %\n",
      "Precision: 100.0 %\n",
      "Recall: 81.08108108108108 %\n",
      "F1 Score: 89.55223880597015 %\n"
     ]
    },
    {
     "data": {
      "image/png": "[encoded data removed]",
      "text/plain": [
       "<Figure size 432x288 with 2 Axes>"
      ]
     },
     "metadata": {
      "needs_background": "light"
     },
     "output_type": "display_data"
    }
   ],
   "source": [
    "evaluate_model(spam_detectorRF, valid_tfidf, valid['label'])"
   ]
  },
  {
   "cell_type": "markdown",
   "id": "fe364f0f",
   "metadata": {},
   "source": [
    "## The best model\n",
    "---\n",
    "Upon observing the scores achieved on the testing data for the three models we can observe that the Random Forest Classifier performs the best."
   ]
  }
 ],
 "metadata": {
  "kernelspec": {
   "display_name": "Python 3 (ipykernel)",
   "language": "python",
   "name": "python3"
  },
  "language_info": {
   "codemirror_mode": {
    "name": "ipython",
    "version": 3
   },
   "file_extension": ".py",
   "mimetype": "text/x-python",
   "name": "python",
   "nbconvert_exporter": "python",
   "pygments_lexer": "ipython3",
   "version": "3.10.4"
  }
 },
 "nbformat": 4,
 "nbformat_minor": 5
}
