{
 "cells": [
  {
   "cell_type": "markdown",
   "id": "faf7d91e",
   "metadata": {},
   "source": [
    "# Assignment 2 - Applied Machine Learning\n",
    "---\n",
    "## Arghadeep Ghosh\n",
    "\n",
    "This notebook 'prepare.ipynb' contains the code for loading the dataset and splitting it into Train, Validation and Test data."
   ]
  },
  {
   "cell_type": "code",
   "execution_count": 208,
   "id": "02676ffa",
   "metadata": {},
   "outputs": [],
   "source": [
    "import os\n",
    "\n",
    "import pandas as pd\n",
    "import csv\n",
    "import numpy as np\n",
    "\n",
    "from sklearn.model_selection import train_test_split"
   ]
  },
  {
   "cell_type": "markdown",
   "id": "383af2ee",
   "metadata": {},
   "source": [
    "## Loading the Data\n",
    "---\n",
    "The Data is loaded in a CSV format"
   ]
  },
  {
   "cell_type": "code",
   "execution_count": 209,
   "id": "c3c955ce",
   "metadata": {},
   "outputs": [
    {
     "data": {
      "text/html": [
       "<div>\n",
       "<style scoped>\n",
       "    .dataframe tbody tr th:only-of-type {\n",
       "        vertical-align: middle;\n",
       "    }\n",
       "\n",
       "    .dataframe tbody tr th {\n",
       "        vertical-align: top;\n",
       "    }\n",
       "\n",
       "    .dataframe thead th {\n",
       "        text-align: right;\n",
       "    }\n",
       "</style>\n",
       "<table border=\"1\" class=\"dataframe\">\n",
       "  <thead>\n",
       "    <tr style=\"text-align: right;\">\n",
       "      <th></th>\n",
       "      <th>label</th>\n",
       "      <th>message</th>\n",
       "    </tr>\n",
       "  </thead>\n",
       "  <tbody>\n",
       "    <tr>\n",
       "      <th>0</th>\n",
       "      <td>ham</td>\n",
       "      <td>Go until jurong point, crazy.. Available only ...</td>\n",
       "    </tr>\n",
       "    <tr>\n",
       "      <th>1</th>\n",
       "      <td>ham</td>\n",
       "      <td>Ok lar... Joking wif u oni...</td>\n",
       "    </tr>\n",
       "    <tr>\n",
       "      <th>2</th>\n",
       "      <td>spam</td>\n",
       "      <td>Free entry in 2 a wkly comp to win FA Cup fina...</td>\n",
       "    </tr>\n",
       "    <tr>\n",
       "      <th>3</th>\n",
       "      <td>ham</td>\n",
       "      <td>U dun say so early hor... U c already then say...</td>\n",
       "    </tr>\n",
       "    <tr>\n",
       "      <th>4</th>\n",
       "      <td>ham</td>\n",
       "      <td>Nah I don't think he goes to usf, he lives aro...</td>\n",
       "    </tr>\n",
       "    <tr>\n",
       "      <th>...</th>\n",
       "      <td>...</td>\n",
       "      <td>...</td>\n",
       "    </tr>\n",
       "    <tr>\n",
       "      <th>5569</th>\n",
       "      <td>spam</td>\n",
       "      <td>This is the 2nd time we have tried 2 contact u...</td>\n",
       "    </tr>\n",
       "    <tr>\n",
       "      <th>5570</th>\n",
       "      <td>ham</td>\n",
       "      <td>Will ü b going to esplanade fr home?</td>\n",
       "    </tr>\n",
       "    <tr>\n",
       "      <th>5571</th>\n",
       "      <td>ham</td>\n",
       "      <td>Pity, * was in mood for that. So...any other s...</td>\n",
       "    </tr>\n",
       "    <tr>\n",
       "      <th>5572</th>\n",
       "      <td>ham</td>\n",
       "      <td>The guy did some bitching but I acted like i'd...</td>\n",
       "    </tr>\n",
       "    <tr>\n",
       "      <th>5573</th>\n",
       "      <td>ham</td>\n",
       "      <td>Rofl. Its true to its name</td>\n",
       "    </tr>\n",
       "  </tbody>\n",
       "</table>\n",
       "<p>5574 rows × 2 columns</p>\n",
       "</div>"
      ],
      "text/plain": [
       "     label                                            message\n",
       "0      ham  Go until jurong point, crazy.. Available only ...\n",
       "1      ham                      Ok lar... Joking wif u oni...\n",
       "2     spam  Free entry in 2 a wkly comp to win FA Cup fina...\n",
       "3      ham  U dun say so early hor... U c already then say...\n",
       "4      ham  Nah I don't think he goes to usf, he lives aro...\n",
       "...    ...                                                ...\n",
       "5569  spam  This is the 2nd time we have tried 2 contact u...\n",
       "5570   ham               Will ü b going to esplanade fr home?\n",
       "5571   ham  Pity, * was in mood for that. So...any other s...\n",
       "5572   ham  The guy did some bitching but I acted like i'd...\n",
       "5573   ham                         Rofl. Its true to its name\n",
       "\n",
       "[5574 rows x 2 columns]"
      ]
     },
     "execution_count": 209,
     "metadata": {},
     "output_type": "execute_result"
    }
   ],
   "source": [
    "messages = pd.read_csv('./SMSSpamCollection', sep='\\t', quoting=csv.QUOTE_NONE, names=[\"label\", \"message\"], encoding = \"utf8\")\n",
    "messages"
   ]
  },
  {
   "cell_type": "markdown",
   "id": "a0678b5b",
   "metadata": {},
   "source": [
    "## Train, Validation and Test split\n",
    "---\n",
    "The Raw Data is split into 60% training data, 20% validation data and 20% test data. We generate the first batch of Train, Validation, Test data with a random seed 1337"
   ]
  },
  {
   "cell_type": "code",
   "execution_count": 210,
   "id": "fa43bcb1",
   "metadata": {},
   "outputs": [
    {
     "data": {
      "text/plain": [
       "(3344, 1115, 1115)"
      ]
     },
     "execution_count": 210,
     "metadata": {},
     "output_type": "execute_result"
    }
   ],
   "source": [
    "np.random.seed(1337)\n",
    "\n",
    "X_temp, X_test, Y_temp, Y_test = train_test_split(messages['message'], messages['label'], test_size=0.2)\n",
    "\n",
    "X_train, X_valid, Y_train, Y_valid = train_test_split(X_temp, Y_temp, test_size=0.25)\n",
    "\n",
    "len(X_train), len(X_valid), len(X_test)\n",
    "\n",
    "train = pd.DataFrame({'label': Y_train, 'message': X_train})\n",
    "valid = pd.DataFrame({'label': Y_valid, 'message': X_valid})\n",
    "test = pd.DataFrame({'label': Y_test, 'message': X_test})\n",
    "\n",
    "len(train), len(valid), len(test)"
   ]
  },
  {
   "cell_type": "code",
   "execution_count": 211,
   "id": "c86fd6f1",
   "metadata": {},
   "outputs": [],
   "source": [
    "if not os.path.exists('data'):\n",
    "    os.mkdir('data')\n",
    "\n",
    "messages.to_csv('data/raw_data.csv')\n",
    "train.to_csv('data/train.csv')\n",
    "valid.to_csv('data/validation.csv')\n",
    "test.to_csv('data/test.csv')"
   ]
  },
  {
   "cell_type": "markdown",
   "id": "a4ef2904",
   "metadata": {},
   "source": [
    "## DVC Initialization\n",
    "---\n",
    "We initialize dvc and use a gdrive remote storage to track different versions of the data"
   ]
  },
  {
   "cell_type": "code",
   "execution_count": 212,
   "id": "8ecfbbf8",
   "metadata": {},
   "outputs": [
    {
     "name": "stdout",
     "output_type": "stream",
     "text": [
      "Requirement already satisfied: dvc in c:\\python39\\lib\\site-packages (2.45.1)\n",
      "Requirement already satisfied: packaging>=19.0 in c:\\users\\argodep\\appdata\\roaming\\python\\python39\\site-packages (from dvc) (22.0)\n",
      "Requirement already satisfied: pygtrie>=2.3.2 in c:\\python39\\lib\\site-packages (from dvc) (2.5.0)\n",
      "Requirement already satisfied: dpath<3,>=2.0.2 in c:\\python39\\lib\\site-packages (from dvc) (2.1.4)\n",
      "Requirement already satisfied: tqdm<5,>=4.63.1 in c:\\users\\argodep\\appdata\\roaming\\python\\python39\\site-packages (from dvc) (4.64.1)\n",
      "Requirement already satisfied: rich>=12.0.0 in c:\\python39\\lib\\site-packages (from dvc) (13.3.1)\n",
      "Requirement already satisfied: funcy>=1.14 in c:\\python39\\lib\\site-packages (from dvc) (1.18)\n",
      "Requirement already satisfied: shtab<2,>=1.3.4 in c:\\python39\\lib\\site-packages (from dvc) (1.5.8)\n",
      "Requirement already satisfied: configobj>=5.0.6 in c:\\python39\\lib\\site-packages (from dvc) (5.0.8)\n",
      "Requirement already satisfied: tabulate>=0.8.7 in c:\\python39\\lib\\site-packages (from dvc) (0.9.0)\n",
      "Requirement already satisfied: typing-extensions>=3.7.4 in c:\\python39\\lib\\site-packages (from dvc) (4.5.0)\n",
      "Requirement already satisfied: grandalf<1,>=0.7 in c:\\python39\\lib\\site-packages (from dvc) (0.8)\n",
      "Requirement already satisfied: hydra-core>=1.1.0 in c:\\python39\\lib\\site-packages (from dvc) (1.3.2)\n",
      "Requirement already satisfied: iterative-telemetry==0.0.7 in c:\\python39\\lib\\site-packages (from dvc) (0.0.7)\n",
      "Requirement already satisfied: requests>=2.22.0 in c:\\users\\argodep\\appdata\\roaming\\python\\python39\\site-packages (from dvc) (2.28.2)\n",
      "Requirement already satisfied: tomlkit>=0.11.1 in c:\\python39\\lib\\site-packages (from dvc) (0.11.6)\n",
      "Requirement already satisfied: pyparsing>=2.4.7 in c:\\users\\argodep\\appdata\\roaming\\python\\python39\\site-packages (from dvc) (3.0.9)\n",
      "Requirement already satisfied: dvc-task==0.1.11 in c:\\python39\\lib\\site-packages (from dvc) (0.1.11)\n",
      "Requirement already satisfied: zc.lockfile>=1.2.1 in c:\\python39\\lib\\site-packages (from dvc) (3.0)\n",
      "Requirement already satisfied: dvclive>=1.2.2 in c:\\python39\\lib\\site-packages (from dvc) (2.1.0)\n",
      "Requirement already satisfied: dvc-http in c:\\python39\\lib\\site-packages (from dvc) (2.30.2)\n",
      "Requirement already satisfied: dvc-studio-client>=0.1.1 in c:\\python39\\lib\\site-packages (from dvc) (0.5.1)\n",
      "Requirement already satisfied: voluptuous>=0.11.7 in c:\\python39\\lib\\site-packages (from dvc) (0.13.1)\n",
      "Requirement already satisfied: flatten-dict<1,>=0.4.1 in c:\\python39\\lib\\site-packages (from dvc) (0.4.2)\n",
      "Requirement already satisfied: dvc-render>=0.1.2 in c:\\python39\\lib\\site-packages (from dvc) (0.2.0)\n",
      "Requirement already satisfied: pathspec>=0.10.3 in c:\\python39\\lib\\site-packages (from dvc) (0.11.0)\n",
      "Requirement already satisfied: networkx>=2.5 in c:\\python39\\lib\\site-packages (from dvc) (3.0)\n",
      "Requirement already satisfied: appdirs>=1.4.3 in c:\\python39\\lib\\site-packages (from dvc) (1.4.4)\n",
      "Requirement already satisfied: dvc-data==0.40.3 in c:\\python39\\lib\\site-packages (from dvc) (0.40.3)\n",
      "Requirement already satisfied: colorama>=0.3.9 in c:\\users\\argodep\\appdata\\roaming\\python\\python39\\site-packages (from dvc) (0.4.6)\n",
      "Requirement already satisfied: shortuuid>=0.5.0 in c:\\python39\\lib\\site-packages (from dvc) (1.0.11)\n",
      "Requirement already satisfied: flufl.lock>=5 in c:\\python39\\lib\\site-packages (from dvc) (7.1.1)\n",
      "Requirement already satisfied: psutil>=5.8.0 in c:\\python39\\lib\\site-packages (from dvc) (5.9.4)\n",
      "Requirement already satisfied: scmrepo==0.1.11 in c:\\python39\\lib\\site-packages (from dvc) (0.1.11)\n",
      "Requirement already satisfied: pydot>=1.2.4 in c:\\python39\\lib\\site-packages (from dvc) (1.4.2)\n",
      "Requirement already satisfied: distro>=1.3.0 in c:\\python39\\lib\\site-packages (from dvc) (1.8.0)\n",
      "Requirement already satisfied: ruamel.yaml>=0.17.11 in c:\\python39\\lib\\site-packages (from dvc) (0.17.21)\n",
      "Requirement already satisfied: dvc-objects==0.19.3 in c:\\python39\\lib\\site-packages (from dvc-data==0.40.3->dvc) (0.19.3)\n",
      "Requirement already satisfied: attrs>=21.3.0 in c:\\python39\\lib\\site-packages (from dvc-data==0.40.3->dvc) (22.2.0)\n",
      "Requirement already satisfied: nanotime>=0.5.2 in c:\\python39\\lib\\site-packages (from dvc-data==0.40.3->dvc) (0.5.2)\n",
      "Requirement already satisfied: dictdiffer>=0.8.1 in c:\\python39\\lib\\site-packages (from dvc-data==0.40.3->dvc) (0.9.0)\n",
      "Requirement already satisfied: sqltrie==0.0.28 in c:\\python39\\lib\\site-packages (from dvc-data==0.40.3->dvc) (0.0.28)\n",
      "Requirement already satisfied: diskcache>=5.2.1 in c:\\python39\\lib\\site-packages (from dvc-data==0.40.3->dvc) (5.4.0)\n",
      "Requirement already satisfied: celery<6,>=5.2.0 in c:\\python39\\lib\\site-packages (from dvc-task==0.1.11->dvc) (5.2.7)\n",
      "Requirement already satisfied: pywin32>=225 in c:\\python39\\lib\\site-packages (from dvc-task==0.1.11->dvc) (305)\n",
      "Requirement already satisfied: kombu<6,>=5.2.0 in c:\\python39\\lib\\site-packages (from dvc-task==0.1.11->dvc) (5.2.4)\n",
      "Requirement already satisfied: filelock in c:\\python39\\lib\\site-packages (from iterative-telemetry==0.0.7->dvc) (3.9.0)\n",
      "Requirement already satisfied: pygit2>=1.10.0 in c:\\python39\\lib\\site-packages (from scmrepo==0.1.11->dvc) (1.11.1)\n",
      "Requirement already satisfied: asyncssh<3,>=2.7.1 in c:\\python39\\lib\\site-packages (from scmrepo==0.1.11->dvc) (2.13.1)\n",
      "Requirement already satisfied: gitpython>3 in c:\\users\\argodep\\appdata\\roaming\\python\\python39\\site-packages (from scmrepo==0.1.11->dvc) (3.1.31)\n",
      "Requirement already satisfied: fsspec>=2021.7.0 in c:\\python39\\lib\\site-packages (from scmrepo==0.1.11->dvc) (2023.1.0)\n",
      "Requirement already satisfied: dulwich>=0.20.49 in c:\\python39\\lib\\site-packages (from scmrepo==0.1.11->dvc) (0.21.3)\n",
      "Requirement already satisfied: orjson in c:\\python39\\lib\\site-packages (from sqltrie==0.0.28->dvc-data==0.40.3->dvc) (3.8.6)\n",
      "Requirement already satisfied: six in c:\\users\\argodep\\appdata\\roaming\\python\\python39\\site-packages (from configobj>=5.0.6->dvc) (1.16.0)\n",
      "Requirement already satisfied: atpublic>=2.3 in c:\\python39\\lib\\site-packages (from flufl.lock>=5->dvc) (3.1.1)\n",
      "Requirement already satisfied: antlr4-python3-runtime==4.9.* in c:\\python39\\lib\\site-packages (from hydra-core>=1.1.0->dvc) (4.9.3)\n",
      "Requirement already satisfied: omegaconf<2.4,>=2.2 in c:\\python39\\lib\\site-packages (from hydra-core>=1.1.0->dvc) (2.3.0)\n",
      "Requirement already satisfied: urllib3<1.27,>=1.21.1 in c:\\python39\\lib\\site-packages (from requests>=2.22.0->dvc) (1.26.14)\n",
      "Requirement already satisfied: idna<4,>=2.5 in c:\\users\\argodep\\appdata\\roaming\\python\\python39\\site-packages (from requests>=2.22.0->dvc) (3.4)\n",
      "Requirement already satisfied: certifi>=2017.4.17 in c:\\users\\argodep\\appdata\\roaming\\python\\python39\\site-packages (from requests>=2.22.0->dvc) (2022.12.7)\n",
      "Requirement already satisfied: charset-normalizer<4,>=2 in c:\\python39\\lib\\site-packages (from requests>=2.22.0->dvc) (3.0.1)\n",
      "Requirement already satisfied: pygments<3.0.0,>=2.14.0 in c:\\python39\\lib\\site-packages (from rich>=12.0.0->dvc) (2.14.0)\n",
      "Requirement already satisfied: markdown-it-py<3.0.0,>=2.1.0 in c:\\python39\\lib\\site-packages (from rich>=12.0.0->dvc) (2.2.0)\n",
      "Requirement already satisfied: ruamel.yaml.clib>=0.2.6 in c:\\python39\\lib\\site-packages (from ruamel.yaml>=0.17.11->dvc) (0.2.7)\n",
      "Requirement already satisfied: setuptools in c:\\python39\\lib\\site-packages (from zc.lockfile>=1.2.1->dvc) (49.2.1)\n",
      "Requirement already satisfied: aiohttp-retry>=2.5.0 in c:\\python39\\lib\\site-packages (from dvc-http->dvc) (2.8.3)\n",
      "Requirement already satisfied: aiohttp in c:\\python39\\lib\\site-packages (from aiohttp-retry>=2.5.0->dvc-http->dvc) (3.8.4)\n",
      "Requirement already satisfied: cryptography>=3.1 in c:\\python39\\lib\\site-packages (from asyncssh<3,>=2.7.1->scmrepo==0.1.11->dvc) (39.0.1)\n",
      "Requirement already satisfied: click-plugins>=1.1.1 in c:\\python39\\lib\\site-packages (from celery<6,>=5.2.0->dvc-task==0.1.11->dvc) (1.1.1)\n",
      "Requirement already satisfied: pytz>=2021.3 in c:\\python39\\lib\\site-packages (from celery<6,>=5.2.0->dvc-task==0.1.11->dvc) (2022.7.1)\n",
      "Requirement already satisfied: click<9.0,>=8.0.3 in c:\\users\\argodep\\appdata\\roaming\\python\\python39\\site-packages (from celery<6,>=5.2.0->dvc-task==0.1.11->dvc) (8.1.3)\n",
      "Requirement already satisfied: click-didyoumean>=0.0.3 in c:\\python39\\lib\\site-packages (from celery<6,>=5.2.0->dvc-task==0.1.11->dvc) (0.3.0)\n",
      "Requirement already satisfied: click-repl>=0.2.0 in c:\\python39\\lib\\site-packages (from celery<6,>=5.2.0->dvc-task==0.1.11->dvc) (0.2.0)\n",
      "Requirement already satisfied: billiard<4.0,>=3.6.4.0 in c:\\python39\\lib\\site-packages (from celery<6,>=5.2.0->dvc-task==0.1.11->dvc) (3.6.4.0)\n",
      "Requirement already satisfied: vine<6.0,>=5.0.0 in c:\\python39\\lib\\site-packages (from celery<6,>=5.2.0->dvc-task==0.1.11->dvc) (5.0.0)\n",
      "Requirement already satisfied: gitdb<5,>=4.0.1 in c:\\users\\argodep\\appdata\\roaming\\python\\python39\\site-packages (from gitpython>3->scmrepo==0.1.11->dvc) (4.0.10)\n",
      "Requirement already satisfied: amqp<6.0.0,>=5.0.9 in c:\\python39\\lib\\site-packages (from kombu<6,>=5.2.0->dvc-task==0.1.11->dvc) (5.1.1)\n",
      "Requirement already satisfied: mdurl~=0.1 in c:\\python39\\lib\\site-packages (from markdown-it-py<3.0.0,>=2.1.0->rich>=12.0.0->dvc) (0.1.2)\n",
      "Requirement already satisfied: PyYAML>=5.1.0 in c:\\users\\argodep\\appdata\\roaming\\python\\python39\\site-packages (from omegaconf<2.4,>=2.2->hydra-core>=1.1.0->dvc) (6.0)\n",
      "Requirement already satisfied: cffi>=1.9.1 in c:\\python39\\lib\\site-packages (from pygit2>=1.10.0->scmrepo==0.1.11->dvc) (1.15.1)\n",
      "Requirement already satisfied: async-timeout<5.0,>=4.0.0a3 in c:\\python39\\lib\\site-packages (from aiohttp->aiohttp-retry>=2.5.0->dvc-http->dvc) (4.0.2)\n",
      "Requirement already satisfied: aiosignal>=1.1.2 in c:\\python39\\lib\\site-packages (from aiohttp->aiohttp-retry>=2.5.0->dvc-http->dvc) (1.3.1)\n",
      "Requirement already satisfied: yarl<2.0,>=1.0 in c:\\python39\\lib\\site-packages (from aiohttp->aiohttp-retry>=2.5.0->dvc-http->dvc) (1.8.2)\n",
      "Requirement already satisfied: frozenlist>=1.1.1 in c:\\python39\\lib\\site-packages (from aiohttp->aiohttp-retry>=2.5.0->dvc-http->dvc) (1.3.3)\n",
      "Requirement already satisfied: multidict<7.0,>=4.5 in c:\\python39\\lib\\site-packages (from aiohttp->aiohttp-retry>=2.5.0->dvc-http->dvc) (6.0.4)\n",
      "Requirement already satisfied: pycparser in c:\\python39\\lib\\site-packages (from cffi>=1.9.1->pygit2>=1.10.0->scmrepo==0.1.11->dvc) (2.21)\n",
      "Requirement already satisfied: prompt-toolkit in c:\\python39\\lib\\site-packages (from click-repl>=0.2.0->celery<6,>=5.2.0->dvc-task==0.1.11->dvc) (3.0.37)\n",
      "Requirement already satisfied: smmap<6,>=3.0.1 in c:\\users\\argodep\\appdata\\roaming\\python\\python39\\site-packages (from gitdb<5,>=4.0.1->gitpython>3->scmrepo==0.1.11->dvc) (5.0.0)\n",
      "Requirement already satisfied: wcwidth in c:\\python39\\lib\\site-packages (from prompt-toolkit->click-repl>=0.2.0->celery<6,>=5.2.0->dvc-task==0.1.11->dvc) (0.2.6)\n"
     ]
    }
   ],
   "source": [
    "!pip install dvc"
   ]
  },
  {
   "cell_type": "code",
   "execution_count": 213,
   "id": "bc3bc7e2",
   "metadata": {},
   "outputs": [],
   "source": [
    "!rd /s /q .git"
   ]
  },
  {
   "cell_type": "code",
   "execution_count": 214,
   "id": "2e96c8c2",
   "metadata": {},
   "outputs": [
    {
     "name": "stdout",
     "output_type": "stream",
     "text": [
      "Initialized empty Git repository in C:/Users/Argodep/Applied-Machine-Learning/Assignment 2/.git/\n",
      "Initialized DVC repository.\n",
      "\n",
      "You can now commit the changes to git.\n",
      "\n",
      "+---------------------------------------------------------------------+\n",
      "|                                                                     |\n",
      "|        DVC has enabled anonymous aggregate usage analytics.         |\n",
      "|     Read the analytics documentation (and how to opt-out) here:     |\n",
      "|             <https://dvc.org/doc/user-guide/analytics>              |\n",
      "|                                                                     |\n",
      "+---------------------------------------------------------------------+\n",
      "\n",
      "What's next?\n",
      "------------\n",
      "- Check out the documentation: <https://dvc.org/doc>\n",
      "- Get help and share ideas: <https://dvc.org/chat>\n",
      "- Star us on GitHub: <https://github.com/iterative/dvc>\n"
     ]
    }
   ],
   "source": [
    "!git init\n",
    "!dvc init"
   ]
  },
  {
   "cell_type": "code",
   "execution_count": 215,
   "id": "514113a9",
   "metadata": {},
   "outputs": [
    {
     "name": "stdout",
     "output_type": "stream",
     "text": [
      " Volume in drive C has no label.\n",
      " Volume Serial Number is 7463-D5F5\n",
      "\n",
      " Directory of C:\\Users\\Argodep\\Applied-Machine-Learning\\Assignment 2\\data\n",
      "\n",
      "02/28/2023  04:44 AM    <DIR>          .\n",
      "02/28/2023  04:44 AM    <DIR>          ..\n",
      "02/28/2023  04:44 AM           513,426 raw_data.csv\n",
      "02/28/2023  04:44 AM           100,926 test.csv\n",
      "02/28/2023  04:44 AM           306,139 train.csv\n",
      "02/28/2023  04:44 AM           106,393 validation.csv\n",
      "               4 File(s)      1,026,884 bytes\n",
      "               2 Dir(s)  31,878,471,680 bytes free\n"
     ]
    }
   ],
   "source": [
    "!dir data"
   ]
  },
  {
   "cell_type": "code",
   "execution_count": 216,
   "id": "f0c36cef",
   "metadata": {},
   "outputs": [
    {
     "name": "stdout",
     "output_type": "stream",
     "text": [
      "Requirement already satisfied: dvc_gdrive in c:\\python39\\lib\\site-packages (2.19.1)\n",
      "Requirement already satisfied: dvc in c:\\python39\\lib\\site-packages (from dvc_gdrive) (2.45.1)\n",
      "Requirement already satisfied: pydrive2[fsspec]>=1.15.0 in c:\\python39\\lib\\site-packages (from dvc_gdrive) (1.15.1)\n",
      "Requirement already satisfied: PyYAML>=3.0 in c:\\users\\argodep\\appdata\\roaming\\python\\python39\\site-packages (from pydrive2[fsspec]>=1.15.0->dvc_gdrive) (6.0)\n",
      "Requirement already satisfied: oauth2client>=4.0.0 in c:\\python39\\lib\\site-packages (from pydrive2[fsspec]>=1.15.0->dvc_gdrive) (4.1.3)\n",
      "Requirement already satisfied: pyOpenSSL>=19.1.0 in c:\\python39\\lib\\site-packages (from pydrive2[fsspec]>=1.15.0->dvc_gdrive) (23.0.0)\n",
      "Requirement already satisfied: google-api-python-client>=1.12.5 in c:\\python39\\lib\\site-packages (from pydrive2[fsspec]>=1.15.0->dvc_gdrive) (2.79.0)\n",
      "Requirement already satisfied: appdirs>=1.4.3 in c:\\python39\\lib\\site-packages (from pydrive2[fsspec]>=1.15.0->dvc_gdrive) (1.4.4)\n",
      "Requirement already satisfied: fsspec>=2021.07.0 in c:\\python39\\lib\\site-packages (from pydrive2[fsspec]>=1.15.0->dvc_gdrive) (2023.1.0)\n",
      "Requirement already satisfied: tqdm>=4.0.0 in c:\\users\\argodep\\appdata\\roaming\\python\\python39\\site-packages (from pydrive2[fsspec]>=1.15.0->dvc_gdrive) (4.64.1)\n",
      "Requirement already satisfied: funcy>=1.14 in c:\\python39\\lib\\site-packages (from pydrive2[fsspec]>=1.15.0->dvc_gdrive) (1.18)\n",
      "Requirement already satisfied: requests>=2.22.0 in c:\\users\\argodep\\appdata\\roaming\\python\\python39\\site-packages (from dvc->dvc_gdrive) (2.28.2)\n",
      "Requirement already satisfied: grandalf<1,>=0.7 in c:\\python39\\lib\\site-packages (from dvc->dvc_gdrive) (0.8)\n",
      "Requirement already satisfied: configobj>=5.0.6 in c:\\python39\\lib\\site-packages (from dvc->dvc_gdrive) (5.0.8)\n",
      "Requirement already satisfied: rich>=12.0.0 in c:\\python39\\lib\\site-packages (from dvc->dvc_gdrive) (13.3.1)\n",
      "Requirement already satisfied: hydra-core>=1.1.0 in c:\\python39\\lib\\site-packages (from dvc->dvc_gdrive) (1.3.2)\n",
      "Requirement already satisfied: pyparsing>=2.4.7 in c:\\users\\argodep\\appdata\\roaming\\python\\python39\\site-packages (from dvc->dvc_gdrive) (3.0.9)\n",
      "Requirement already satisfied: pygtrie>=2.3.2 in c:\\python39\\lib\\site-packages (from dvc->dvc_gdrive) (2.5.0)\n",
      "Requirement already satisfied: dvc-task==0.1.11 in c:\\python39\\lib\\site-packages (from dvc->dvc_gdrive) (0.1.11)\n",
      "Requirement already satisfied: voluptuous>=0.11.7 in c:\\python39\\lib\\site-packages (from dvc->dvc_gdrive) (0.13.1)\n",
      "Requirement already satisfied: dvc-render>=0.1.2 in c:\\python39\\lib\\site-packages (from dvc->dvc_gdrive) (0.2.0)\n",
      "Requirement already satisfied: distro>=1.3.0 in c:\\python39\\lib\\site-packages (from dvc->dvc_gdrive) (1.8.0)\n",
      "Requirement already satisfied: shortuuid>=0.5.0 in c:\\python39\\lib\\site-packages (from dvc->dvc_gdrive) (1.0.11)\n",
      "Requirement already satisfied: iterative-telemetry==0.0.7 in c:\\python39\\lib\\site-packages (from dvc->dvc_gdrive) (0.0.7)\n",
      "Requirement already satisfied: dpath<3,>=2.0.2 in c:\\python39\\lib\\site-packages (from dvc->dvc_gdrive) (2.1.4)\n",
      "Requirement already satisfied: flufl.lock>=5 in c:\\python39\\lib\\site-packages (from dvc->dvc_gdrive) (7.1.1)\n",
      "Requirement already satisfied: shtab<2,>=1.3.4 in c:\\python39\\lib\\site-packages (from dvc->dvc_gdrive) (1.5.8)\n",
      "Requirement already satisfied: pathspec>=0.10.3 in c:\\python39\\lib\\site-packages (from dvc->dvc_gdrive) (0.11.0)\n",
      "Requirement already satisfied: dvc-data==0.40.3 in c:\\python39\\lib\\site-packages (from dvc->dvc_gdrive) (0.40.3)\n",
      "Requirement already satisfied: zc.lockfile>=1.2.1 in c:\\python39\\lib\\site-packages (from dvc->dvc_gdrive) (3.0)\n",
      "Requirement already satisfied: ruamel.yaml>=0.17.11 in c:\\python39\\lib\\site-packages (from dvc->dvc_gdrive) (0.17.21)\n",
      "Requirement already satisfied: pydot>=1.2.4 in c:\\python39\\lib\\site-packages (from dvc->dvc_gdrive) (1.4.2)\n",
      "Requirement already satisfied: dvclive>=1.2.2 in c:\\python39\\lib\\site-packages (from dvc->dvc_gdrive) (2.1.0)\n",
      "Requirement already satisfied: networkx>=2.5 in c:\\python39\\lib\\site-packages (from dvc->dvc_gdrive) (3.0)\n",
      "Requirement already satisfied: dvc-http in c:\\python39\\lib\\site-packages (from dvc->dvc_gdrive) (2.30.2)\n",
      "Requirement already satisfied: packaging>=19.0 in c:\\users\\argodep\\appdata\\roaming\\python\\python39\\site-packages (from dvc->dvc_gdrive) (22.0)\n",
      "Requirement already satisfied: tabulate>=0.8.7 in c:\\python39\\lib\\site-packages (from dvc->dvc_gdrive) (0.9.0)\n",
      "Requirement already satisfied: flatten-dict<1,>=0.4.1 in c:\\python39\\lib\\site-packages (from dvc->dvc_gdrive) (0.4.2)\n",
      "Requirement already satisfied: typing-extensions>=3.7.4 in c:\\python39\\lib\\site-packages (from dvc->dvc_gdrive) (4.5.0)\n",
      "Requirement already satisfied: dvc-studio-client>=0.1.1 in c:\\python39\\lib\\site-packages (from dvc->dvc_gdrive) (0.5.1)\n",
      "Requirement already satisfied: tomlkit>=0.11.1 in c:\\python39\\lib\\site-packages (from dvc->dvc_gdrive) (0.11.6)\n",
      "Requirement already satisfied: scmrepo==0.1.11 in c:\\python39\\lib\\site-packages (from dvc->dvc_gdrive) (0.1.11)\n",
      "Requirement already satisfied: psutil>=5.8.0 in c:\\python39\\lib\\site-packages (from dvc->dvc_gdrive) (5.9.4)\n",
      "Requirement already satisfied: colorama>=0.3.9 in c:\\users\\argodep\\appdata\\roaming\\python\\python39\\site-packages (from dvc->dvc_gdrive) (0.4.6)\n",
      "Requirement already satisfied: dvc-objects==0.19.3 in c:\\python39\\lib\\site-packages (from dvc-data==0.40.3->dvc->dvc_gdrive) (0.19.3)\n",
      "Requirement already satisfied: diskcache>=5.2.1 in c:\\python39\\lib\\site-packages (from dvc-data==0.40.3->dvc->dvc_gdrive) (5.4.0)\n",
      "Requirement already satisfied: nanotime>=0.5.2 in c:\\python39\\lib\\site-packages (from dvc-data==0.40.3->dvc->dvc_gdrive) (0.5.2)\n",
      "Requirement already satisfied: sqltrie==0.0.28 in c:\\python39\\lib\\site-packages (from dvc-data==0.40.3->dvc->dvc_gdrive) (0.0.28)\n",
      "Requirement already satisfied: dictdiffer>=0.8.1 in c:\\python39\\lib\\site-packages (from dvc-data==0.40.3->dvc->dvc_gdrive) (0.9.0)\n",
      "Requirement already satisfied: attrs>=21.3.0 in c:\\python39\\lib\\site-packages (from dvc-data==0.40.3->dvc->dvc_gdrive) (22.2.0)\n",
      "Requirement already satisfied: kombu<6,>=5.2.0 in c:\\python39\\lib\\site-packages (from dvc-task==0.1.11->dvc->dvc_gdrive) (5.2.4)\n",
      "Requirement already satisfied: celery<6,>=5.2.0 in c:\\python39\\lib\\site-packages (from dvc-task==0.1.11->dvc->dvc_gdrive) (5.2.7)\n",
      "Requirement already satisfied: pywin32>=225 in c:\\python39\\lib\\site-packages (from dvc-task==0.1.11->dvc->dvc_gdrive) (305)\n",
      "Requirement already satisfied: filelock in c:\\python39\\lib\\site-packages (from iterative-telemetry==0.0.7->dvc->dvc_gdrive) (3.9.0)\n",
      "Requirement already satisfied: dulwich>=0.20.49 in c:\\python39\\lib\\site-packages (from scmrepo==0.1.11->dvc->dvc_gdrive) (0.21.3)\n",
      "Requirement already satisfied: pygit2>=1.10.0 in c:\\python39\\lib\\site-packages (from scmrepo==0.1.11->dvc->dvc_gdrive) (1.11.1)\n",
      "Requirement already satisfied: asyncssh<3,>=2.7.1 in c:\\python39\\lib\\site-packages (from scmrepo==0.1.11->dvc->dvc_gdrive) (2.13.1)\n",
      "Requirement already satisfied: gitpython>3 in c:\\users\\argodep\\appdata\\roaming\\python\\python39\\site-packages (from scmrepo==0.1.11->dvc->dvc_gdrive) (3.1.31)\n",
      "Requirement already satisfied: orjson in c:\\python39\\lib\\site-packages (from sqltrie==0.0.28->dvc-data==0.40.3->dvc->dvc_gdrive) (3.8.6)\n",
      "Requirement already satisfied: six in c:\\users\\argodep\\appdata\\roaming\\python\\python39\\site-packages (from configobj>=5.0.6->dvc->dvc_gdrive) (1.16.0)\n",
      "Requirement already satisfied: atpublic>=2.3 in c:\\python39\\lib\\site-packages (from flufl.lock>=5->dvc->dvc_gdrive) (3.1.1)\n",
      "Requirement already satisfied: httplib2<1dev,>=0.15.0 in c:\\python39\\lib\\site-packages (from google-api-python-client>=1.12.5->pydrive2[fsspec]>=1.15.0->dvc_gdrive) (0.21.0)\n",
      "Requirement already satisfied: uritemplate<5,>=3.0.1 in c:\\python39\\lib\\site-packages (from google-api-python-client>=1.12.5->pydrive2[fsspec]>=1.15.0->dvc_gdrive) (4.1.1)\n",
      "Requirement already satisfied: google-api-core!=2.0.*,!=2.1.*,!=2.2.*,!=2.3.0,<3.0.0dev,>=1.31.5 in c:\\python39\\lib\\site-packages (from google-api-python-client>=1.12.5->pydrive2[fsspec]>=1.15.0->dvc_gdrive) (2.11.0)\n",
      "Requirement already satisfied: google-auth<3.0.0dev,>=1.19.0 in c:\\python39\\lib\\site-packages (from google-api-python-client>=1.12.5->pydrive2[fsspec]>=1.15.0->dvc_gdrive) (2.16.1)\n",
      "Requirement already satisfied: google-auth-httplib2>=0.1.0 in c:\\python39\\lib\\site-packages (from google-api-python-client>=1.12.5->pydrive2[fsspec]>=1.15.0->dvc_gdrive) (0.1.0)\n",
      "Requirement already satisfied: omegaconf<2.4,>=2.2 in c:\\python39\\lib\\site-packages (from hydra-core>=1.1.0->dvc->dvc_gdrive) (2.3.0)\n",
      "Requirement already satisfied: antlr4-python3-runtime==4.9.* in c:\\python39\\lib\\site-packages (from hydra-core>=1.1.0->dvc->dvc_gdrive) (4.9.3)\n",
      "Requirement already satisfied: pyasn1>=0.1.7 in c:\\python39\\lib\\site-packages (from oauth2client>=4.0.0->pydrive2[fsspec]>=1.15.0->dvc_gdrive) (0.4.8)\n",
      "Requirement already satisfied: pyasn1-modules>=0.0.5 in c:\\python39\\lib\\site-packages (from oauth2client>=4.0.0->pydrive2[fsspec]>=1.15.0->dvc_gdrive) (0.2.8)\n",
      "Requirement already satisfied: rsa>=3.1.4 in c:\\python39\\lib\\site-packages (from oauth2client>=4.0.0->pydrive2[fsspec]>=1.15.0->dvc_gdrive) (4.9)\n",
      "Requirement already satisfied: cryptography<40,>=38.0.0 in c:\\python39\\lib\\site-packages (from pyOpenSSL>=19.1.0->pydrive2[fsspec]>=1.15.0->dvc_gdrive) (39.0.1)\n",
      "Requirement already satisfied: certifi>=2017.4.17 in c:\\users\\argodep\\appdata\\roaming\\python\\python39\\site-packages (from requests>=2.22.0->dvc->dvc_gdrive) (2022.12.7)\n",
      "Requirement already satisfied: urllib3<1.27,>=1.21.1 in c:\\python39\\lib\\site-packages (from requests>=2.22.0->dvc->dvc_gdrive) (1.26.14)\n",
      "Requirement already satisfied: idna<4,>=2.5 in c:\\users\\argodep\\appdata\\roaming\\python\\python39\\site-packages (from requests>=2.22.0->dvc->dvc_gdrive) (3.4)\n",
      "Requirement already satisfied: charset-normalizer<4,>=2 in c:\\python39\\lib\\site-packages (from requests>=2.22.0->dvc->dvc_gdrive) (3.0.1)\n",
      "Requirement already satisfied: pygments<3.0.0,>=2.14.0 in c:\\python39\\lib\\site-packages (from rich>=12.0.0->dvc->dvc_gdrive) (2.14.0)\n",
      "Requirement already satisfied: markdown-it-py<3.0.0,>=2.1.0 in c:\\python39\\lib\\site-packages (from rich>=12.0.0->dvc->dvc_gdrive) (2.2.0)\n",
      "Requirement already satisfied: ruamel.yaml.clib>=0.2.6 in c:\\python39\\lib\\site-packages (from ruamel.yaml>=0.17.11->dvc->dvc_gdrive) (0.2.7)\n",
      "Requirement already satisfied: setuptools in c:\\python39\\lib\\site-packages (from zc.lockfile>=1.2.1->dvc->dvc_gdrive) (49.2.1)\n",
      "Requirement already satisfied: aiohttp-retry>=2.5.0 in c:\\python39\\lib\\site-packages (from dvc-http->dvc->dvc_gdrive) (2.8.3)\n",
      "Requirement already satisfied: aiohttp in c:\\python39\\lib\\site-packages (from aiohttp-retry>=2.5.0->dvc-http->dvc->dvc_gdrive) (3.8.4)\n",
      "Requirement already satisfied: click-didyoumean>=0.0.3 in c:\\python39\\lib\\site-packages (from celery<6,>=5.2.0->dvc-task==0.1.11->dvc->dvc_gdrive) (0.3.0)\n",
      "Requirement already satisfied: click-repl>=0.2.0 in c:\\python39\\lib\\site-packages (from celery<6,>=5.2.0->dvc-task==0.1.11->dvc->dvc_gdrive) (0.2.0)\n",
      "Requirement already satisfied: pytz>=2021.3 in c:\\python39\\lib\\site-packages (from celery<6,>=5.2.0->dvc-task==0.1.11->dvc->dvc_gdrive) (2022.7.1)\n",
      "Requirement already satisfied: billiard<4.0,>=3.6.4.0 in c:\\python39\\lib\\site-packages (from celery<6,>=5.2.0->dvc-task==0.1.11->dvc->dvc_gdrive) (3.6.4.0)\n",
      "Requirement already satisfied: click-plugins>=1.1.1 in c:\\python39\\lib\\site-packages (from celery<6,>=5.2.0->dvc-task==0.1.11->dvc->dvc_gdrive) (1.1.1)\n",
      "Requirement already satisfied: vine<6.0,>=5.0.0 in c:\\python39\\lib\\site-packages (from celery<6,>=5.2.0->dvc-task==0.1.11->dvc->dvc_gdrive) (5.0.0)\n",
      "Requirement already satisfied: click<9.0,>=8.0.3 in c:\\users\\argodep\\appdata\\roaming\\python\\python39\\site-packages (from celery<6,>=5.2.0->dvc-task==0.1.11->dvc->dvc_gdrive) (8.1.3)\n",
      "Requirement already satisfied: cffi>=1.12 in c:\\python39\\lib\\site-packages (from cryptography<40,>=38.0.0->pyOpenSSL>=19.1.0->pydrive2[fsspec]>=1.15.0->dvc_gdrive) (1.15.1)\n",
      "Requirement already satisfied: gitdb<5,>=4.0.1 in c:\\users\\argodep\\appdata\\roaming\\python\\python39\\site-packages (from gitpython>3->scmrepo==0.1.11->dvc->dvc_gdrive) (4.0.10)\n",
      "Requirement already satisfied: googleapis-common-protos<2.0dev,>=1.56.2 in c:\\python39\\lib\\site-packages (from google-api-core!=2.0.*,!=2.1.*,!=2.2.*,!=2.3.0,<3.0.0dev,>=1.31.5->google-api-python-client>=1.12.5->pydrive2[fsspec]>=1.15.0->dvc_gdrive) (1.58.0)\n",
      "Requirement already satisfied: protobuf!=3.20.0,!=3.20.1,!=4.21.0,!=4.21.1,!=4.21.2,!=4.21.3,!=4.21.4,!=4.21.5,<5.0.0dev,>=3.19.5 in c:\\users\\argodep\\appdata\\roaming\\python\\python39\\site-packages (from google-api-core!=2.0.*,!=2.1.*,!=2.2.*,!=2.3.0,<3.0.0dev,>=1.31.5->google-api-python-client>=1.12.5->pydrive2[fsspec]>=1.15.0->dvc_gdrive) (4.22.0)\n",
      "Requirement already satisfied: cachetools<6.0,>=2.0.0 in c:\\python39\\lib\\site-packages (from google-auth<3.0.0dev,>=1.19.0->google-api-python-client>=1.12.5->pydrive2[fsspec]>=1.15.0->dvc_gdrive) (5.3.0)\n",
      "Requirement already satisfied: amqp<6.0.0,>=5.0.9 in c:\\python39\\lib\\site-packages (from kombu<6,>=5.2.0->dvc-task==0.1.11->dvc->dvc_gdrive) (5.1.1)\n",
      "Requirement already satisfied: mdurl~=0.1 in c:\\python39\\lib\\site-packages (from markdown-it-py<3.0.0,>=2.1.0->rich>=12.0.0->dvc->dvc_gdrive) (0.1.2)\n",
      "Requirement already satisfied: async-timeout<5.0,>=4.0.0a3 in c:\\python39\\lib\\site-packages (from aiohttp->aiohttp-retry>=2.5.0->dvc-http->dvc->dvc_gdrive) (4.0.2)\n",
      "Requirement already satisfied: multidict<7.0,>=4.5 in c:\\python39\\lib\\site-packages (from aiohttp->aiohttp-retry>=2.5.0->dvc-http->dvc->dvc_gdrive) (6.0.4)\n",
      "Requirement already satisfied: yarl<2.0,>=1.0 in c:\\python39\\lib\\site-packages (from aiohttp->aiohttp-retry>=2.5.0->dvc-http->dvc->dvc_gdrive) (1.8.2)\n",
      "Requirement already satisfied: aiosignal>=1.1.2 in c:\\python39\\lib\\site-packages (from aiohttp->aiohttp-retry>=2.5.0->dvc-http->dvc->dvc_gdrive) (1.3.1)\n",
      "Requirement already satisfied: frozenlist>=1.1.1 in c:\\python39\\lib\\site-packages (from aiohttp->aiohttp-retry>=2.5.0->dvc-http->dvc->dvc_gdrive) (1.3.3)\n",
      "Requirement already satisfied: pycparser in c:\\python39\\lib\\site-packages (from cffi>=1.12->cryptography<40,>=38.0.0->pyOpenSSL>=19.1.0->pydrive2[fsspec]>=1.15.0->dvc_gdrive) (2.21)\n",
      "Requirement already satisfied: prompt-toolkit in c:\\python39\\lib\\site-packages (from click-repl>=0.2.0->celery<6,>=5.2.0->dvc-task==0.1.11->dvc->dvc_gdrive) (3.0.37)\n",
      "Requirement already satisfied: smmap<6,>=3.0.1 in c:\\users\\argodep\\appdata\\roaming\\python\\python39\\site-packages (from gitdb<5,>=4.0.1->gitpython>3->scmrepo==0.1.11->dvc->dvc_gdrive) (5.0.0)\n",
      "Requirement already satisfied: wcwidth in c:\\python39\\lib\\site-packages (from prompt-toolkit->click-repl>=0.2.0->celery<6,>=5.2.0->dvc-task==0.1.11->dvc->dvc_gdrive) (0.2.6)\n"
     ]
    }
   ],
   "source": [
    "!pip install dvc_gdrive"
   ]
  },
  {
   "cell_type": "code",
   "execution_count": 217,
   "id": "6d8789ce",
   "metadata": {},
   "outputs": [
    {
     "name": "stdout",
     "output_type": "stream",
     "text": [
      "\n",
      "To track the changes with git, run:\n",
      "\n",
      "\tgit add .gitignore data.dvc\n",
      "\n",
      "To enable auto staging, run:\n",
      "\n",
      "\tdvc config core.autostage true\n",
      "[master (root-commit) 55b2bd7] Tracking Data\n",
      " 5 files changed, 12 insertions(+)\n",
      " create mode 100644 .dvc/.gitignore\n",
      " create mode 100644 .dvc/config\n",
      " create mode 100644 .dvcignore\n",
      " create mode 100644 .gitignore\n",
      " create mode 100644 data.dvc\n"
     ]
    }
   ],
   "source": [
    "!dvc add data\n",
    "!git add data.dvc\n",
    "!git add .gitignore\n",
    "!git commit -m \"Tracking Data\""
   ]
  },
  {
   "cell_type": "code",
   "execution_count": 218,
   "id": "921f624d",
   "metadata": {},
   "outputs": [
    {
     "name": "stdout",
     "output_type": "stream",
     "text": [
      "Setting 'drive' as a default remote.\n",
      "Everything is up to date.\n"
     ]
    }
   ],
   "source": [
    "!dvc remote add --default drive gdrive://1HQL2eK29an7F5_mXvWXenehmy5TD30JV\n",
    "!dvc remote modify drive gdrive_acknowledge_abuse true\n",
    "!dvc push"
   ]
  },
  {
   "cell_type": "code",
   "execution_count": 219,
   "id": "e1944464",
   "metadata": {},
   "outputs": [
    {
     "name": "stdout",
     "output_type": "stream",
     "text": [
      "On branch master\n",
      "Changes not staged for commit:\n",
      "  (use \"git add <file>...\" to update what will be committed)\n",
      "  (use \"git restore <file>...\" to discard changes in working directory)\n",
      "\tmodified:   .dvc/config\n",
      "\n",
      "Untracked files:\n",
      "  (use \"git add <file>...\" to include in what will be committed)\n",
      "\tSMSSpamCollection\n",
      "\tprepare.ipynb\n",
      "\ttrain.ipynb\n",
      "\n",
      "no changes added to commit (use \"git add\" and/or \"git commit -a\")\n"
     ]
    }
   ],
   "source": [
    "!git status"
   ]
  },
  {
   "cell_type": "code",
   "execution_count": 220,
   "id": "a47c32bc",
   "metadata": {},
   "outputs": [
    {
     "name": "stdout",
     "output_type": "stream",
     "text": [
      " Volume in drive C has no label.\n",
      " Volume Serial Number is 7463-D5F5\n",
      "\n",
      " Directory of C:\\Users\\Argodep\\Applied-Machine-Learning\\Assignment 2\n",
      "\n",
      "02/28/2023  04:44 AM                96 data.dvc\n",
      "               1 File(s)             96 bytes\n",
      "               0 Dir(s)  31,877,373,952 bytes free\n",
      "outs:\n",
      "- md5: ddab8031e8e0d2cf31e9f997271193b1.dir\n",
      "  size: 1026884\n",
      "  nfiles: 4\n",
      "  path: data\n"
     ]
    }
   ],
   "source": [
    "!dir data.dvc\n",
    "!type data.dvc"
   ]
  },
  {
   "cell_type": "markdown",
   "id": "eeb15bb5",
   "metadata": {},
   "source": [
    "## Data Distribution \n",
    "---\n",
    "Distribution of the Training, Validation and Test data generated using the seed 1337"
   ]
  },
  {
   "cell_type": "code",
   "execution_count": 221,
   "id": "cc9c7750",
   "metadata": {},
   "outputs": [],
   "source": [
    "train = pd.read_csv('data/train.csv')\n",
    "valid = pd.read_csv('data/validation.csv')\n",
    "test = pd.read_csv('data/test.csv')"
   ]
  },
  {
   "cell_type": "code",
   "execution_count": 222,
   "id": "6b5b9f5d",
   "metadata": {
    "scrolled": false
   },
   "outputs": [
    {
     "data": {
      "text/plain": [
       "(ham     2902\n",
       " spam     442\n",
       " Name: label, dtype: int64,\n",
       " 0.13217703349282298)"
      ]
     },
     "execution_count": 222,
     "metadata": {},
     "output_type": "execute_result"
    }
   ],
   "source": [
    "train['label'].value_counts(), train['label'].value_counts()['spam']/len(train)"
   ]
  },
  {
   "cell_type": "code",
   "execution_count": 223,
   "id": "b7871030",
   "metadata": {
    "scrolled": true
   },
   "outputs": [
    {
     "data": {
      "text/plain": [
       "(ham     944\n",
       " spam    171\n",
       " Name: label, dtype: int64,\n",
       " 0.15336322869955157)"
      ]
     },
     "execution_count": 223,
     "metadata": {},
     "output_type": "execute_result"
    }
   ],
   "source": [
    "valid['label'].value_counts(), valid['label'].value_counts()['spam']/len(valid)"
   ]
  },
  {
   "cell_type": "code",
   "execution_count": 224,
   "id": "3a1f0cbb",
   "metadata": {
    "scrolled": false
   },
   "outputs": [
    {
     "data": {
      "text/plain": [
       "(ham     981\n",
       " spam    134\n",
       " Name: label, dtype: int64,\n",
       " 0.12017937219730941)"
      ]
     },
     "execution_count": 224,
     "metadata": {},
     "output_type": "execute_result"
    }
   ],
   "source": [
    "test['label'].value_counts(), test['label'].value_counts()['spam']/len(test)"
   ]
  },
  {
   "cell_type": "markdown",
   "id": "cc6c2855",
   "metadata": {},
   "source": [
    "## Generating New Data\n",
    "---\n",
    "Generating a new set of Training, Validation and Test data generated using seed 6969. The old data is replaced and it's distribution is printed."
   ]
  },
  {
   "cell_type": "code",
   "execution_count": 225,
   "id": "289546b0",
   "metadata": {},
   "outputs": [
    {
     "data": {
      "text/plain": [
       "(3344, 1115, 1115)"
      ]
     },
     "execution_count": 225,
     "metadata": {},
     "output_type": "execute_result"
    }
   ],
   "source": [
    "np.random.seed(6969)\n",
    "\n",
    "X_temp, X_test, Y_temp, Y_test = train_test_split(messages['message'], messages['label'], test_size=0.2)\n",
    "\n",
    "X_train, X_valid, Y_train, Y_valid = train_test_split(X_temp, Y_temp, test_size=0.25)\n",
    "\n",
    "len(X_train), len(X_valid), len(X_test)\n",
    "\n",
    "train = pd.DataFrame({'label': Y_train, 'message': X_train})\n",
    "valid = pd.DataFrame({'label': Y_valid, 'message': X_valid})\n",
    "test = pd.DataFrame({'label': Y_test, 'message': X_test})\n",
    "\n",
    "len(train), len(valid), len(test)"
   ]
  },
  {
   "cell_type": "code",
   "execution_count": 226,
   "id": "582cb6ae",
   "metadata": {},
   "outputs": [],
   "source": [
    "if not os.path.exists('data'):\n",
    "    os.mkdir('data')\n",
    "\n",
    "messages.to_csv('data/raw_data.csv')\n",
    "train.to_csv('data/train.csv')\n",
    "valid.to_csv('data/validation.csv')\n",
    "test.to_csv('data/test.csv')"
   ]
  },
  {
   "cell_type": "code",
   "execution_count": 227,
   "id": "01876830",
   "metadata": {
    "scrolled": false
   },
   "outputs": [
    {
     "data": {
      "text/plain": [
       "(ham     2893\n",
       " spam     451\n",
       " Name: label, dtype: int64,\n",
       " 0.13486842105263158)"
      ]
     },
     "execution_count": 227,
     "metadata": {},
     "output_type": "execute_result"
    }
   ],
   "source": [
    "train['label'].value_counts(), train['label'].value_counts()['spam']/len(train)"
   ]
  },
  {
   "cell_type": "code",
   "execution_count": 228,
   "id": "dfaba713",
   "metadata": {
    "scrolled": true
   },
   "outputs": [
    {
     "data": {
      "text/plain": [
       "(ham     964\n",
       " spam    151\n",
       " Name: label, dtype: int64,\n",
       " 0.13542600896860987)"
      ]
     },
     "execution_count": 228,
     "metadata": {},
     "output_type": "execute_result"
    }
   ],
   "source": [
    "valid['label'].value_counts(), valid['label'].value_counts()['spam']/len(valid)"
   ]
  },
  {
   "cell_type": "code",
   "execution_count": 229,
   "id": "4b6b3365",
   "metadata": {
    "scrolled": false
   },
   "outputs": [
    {
     "data": {
      "text/plain": [
       "(ham     970\n",
       " spam    145\n",
       " Name: label, dtype: int64,\n",
       " 0.13004484304932734)"
      ]
     },
     "execution_count": 229,
     "metadata": {},
     "output_type": "execute_result"
    }
   ],
   "source": [
    "test['label'].value_counts(), test['label'].value_counts()['spam']/len(test)"
   ]
  },
  {
   "cell_type": "markdown",
   "id": "ce96c619",
   "metadata": {},
   "source": [
    "## DVC Checkout\n",
    "---\n",
    "dvc checkout to obtain the previously generated data using random seed 1337. The distributions are printed to display that they are the same as before"
   ]
  },
  {
   "cell_type": "code",
   "execution_count": 230,
   "id": "f3ff8588",
   "metadata": {
    "scrolled": true
   },
   "outputs": [
    {
     "name": "stdout",
     "output_type": "stream",
     "text": [
      "M       data\\\n"
     ]
    }
   ],
   "source": [
    "!dvc checkout -f data.dvc"
   ]
  },
  {
   "cell_type": "code",
   "execution_count": 231,
   "id": "2d3fe89f",
   "metadata": {},
   "outputs": [
    {
     "data": {
      "text/plain": [
       "(3344, 1115, 1115)"
      ]
     },
     "execution_count": 231,
     "metadata": {},
     "output_type": "execute_result"
    }
   ],
   "source": [
    "train = pd.read_csv('data/train.csv')\n",
    "valid = pd.read_csv('data/validation.csv')\n",
    "test = pd.read_csv('data/test.csv')\n",
    "\n",
    "len(train), len(valid), len(test)"
   ]
  },
  {
   "cell_type": "code",
   "execution_count": 232,
   "id": "c89acd58",
   "metadata": {
    "scrolled": false
   },
   "outputs": [
    {
     "data": {
      "text/plain": [
       "(ham     2902\n",
       " spam     442\n",
       " Name: label, dtype: int64,\n",
       " 0.13217703349282298)"
      ]
     },
     "execution_count": 232,
     "metadata": {},
     "output_type": "execute_result"
    }
   ],
   "source": [
    "train['label'].value_counts(), train['label'].value_counts()['spam']/len(train)"
   ]
  },
  {
   "cell_type": "code",
   "execution_count": 233,
   "id": "c79d27a2",
   "metadata": {
    "scrolled": true
   },
   "outputs": [
    {
     "data": {
      "text/plain": [
       "(ham     944\n",
       " spam    171\n",
       " Name: label, dtype: int64,\n",
       " 0.15336322869955157)"
      ]
     },
     "execution_count": 233,
     "metadata": {},
     "output_type": "execute_result"
    }
   ],
   "source": [
    "valid['label'].value_counts(), valid['label'].value_counts()['spam']/len(valid)"
   ]
  },
  {
   "cell_type": "code",
   "execution_count": 234,
   "id": "d4b67fd1",
   "metadata": {
    "scrolled": false
   },
   "outputs": [
    {
     "data": {
      "text/plain": [
       "(ham     981\n",
       " spam    134\n",
       " Name: label, dtype: int64,\n",
       " 0.12017937219730941)"
      ]
     },
     "execution_count": 234,
     "metadata": {},
     "output_type": "execute_result"
    }
   ],
   "source": [
    "test['label'].value_counts(), test['label'].value_counts()['spam']/len(test)"
   ]
  }
 ],
 "metadata": {
  "kernelspec": {
   "display_name": "Python 3 (ipykernel)",
   "language": "python",
   "name": "python3"
  },
  "language_info": {
   "codemirror_mode": {
    "name": "ipython",
    "version": 3
   },
   "file_extension": ".py",
   "mimetype": "text/x-python",
   "name": "python",
   "nbconvert_exporter": "python",
   "pygments_lexer": "ipython3",
   "version": "3.10.4"
  }
 },
 "nbformat": 4,
 "nbformat_minor": 5
}
